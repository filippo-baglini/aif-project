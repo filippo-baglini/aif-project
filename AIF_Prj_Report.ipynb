{
 "cells": [
  {
   "cell_type": "markdown",
   "id": "69860168",
   "metadata": {},
   "source": [
    "# Project Report: AIF Project\n",
    "\n",
    "## Introduction\n",
    "    \n",
    "The AIF project, hosted on [GitHub](https://github.com/filippo-baglini/aif-project), aims to develop an intelligent agent for the MiniGrid environment, a highly customizable discrete-action environment within the Gymnasium library. \n",
    "\n",
    "Gymnasium is a Python framework designed for creating and testing simulated environments for reinforcement learning, offering a variety of pre-made scenarios for developing and benchmarking AI algorithms. MiniGrid, one of these environments, features a grid-based layout where the agent, represented as a triangle, interacts with objects like doors, keys, and boxes to navigate various challenges. \n",
    "Its high degree of configurability makes it an ideal platform for AI experimentation and customization.\n",
    "    \n",
    "    "
   ]
  },
  {
   "cell_type": "markdown",
   "id": "debf08d6",
   "metadata": {},
   "source": [
    "## Methodology\n",
    "The project utilizes Python and various machine learning frameworks to interact with the BabyAI environment. Key aspects include creating environments, performing tests, and ensuring smooth integration of tools.\n"
   ]
  },
  {
   "cell_type": "markdown",
   "id": "734ab991",
   "metadata": {},
   "source": [
    "Needed to overcome the Key challenges include:\n",
    "- Limited information about goal states.\n",
    "- State ambiguity due to partial observability.\n",
    "- Errors arising from incorrect actions.\n",
    "    \n",
    "\n",
    "The agent's primary objective is to navigate efficiently to the goal using a balance between exploration and exploitation.\n",
    "The agent aims to find the shortest path to the goal while minimizing the steps taken, \n",
    "without sacrificing resource collection.\n",
    "\n",
    "This approach evaluates actions based on their contribution to overall utility or specific goals, \n",
    "e.g., minimizing steps while avoiding hazards.\n",
    "    \n"
   ]
  },
  {
   "cell_type": "markdown",
   "id": "2035a12f",
   "metadata": {},
   "source": [
    "## Our Approach and Implementation\n",
    "\n",
    "We used A* search algorithm to find the path from tha agent to the main target keeping track of the obstacles as closed door, lava tiles and walls.\n",
    "The metric we used to measure the agent's performance is the \"Step\". The step consist in an action taken by the agent that could be \"going forward to the next cell\", \"rotate itself to change the direction\" or \"picking up an object\".\n",
    "We used the manhattan distance to calculate the amount of steps required for every subgoal and decide which of A* path would be the best to take.\n"
   ]
  },
  {
   "cell_type": "code",
   "execution_count": null,
   "id": "47ffa63b",
   "metadata": {
    "vscode": {
     "languageId": "plaintext"
    }
   },
   "outputs": [],
   "source": [
    "#volendo snippet di A*/Manhattan distance"
   ]
  },
  {
   "cell_type": "markdown",
   "id": "01b88595",
   "metadata": {},
   "source": [
    "We implemented a \"subgoal system\" to perform an online planning and make decisions based on current percepts to maximize expected utility. We could infact generate a sequential list for every level that describe which action should the agent take to reach the final target.\n",
    "Here an example of the subgoals functions:"
   ]
  },
  {
   "cell_type": "code",
   "execution_count": null,
   "id": "bbf240c3",
   "metadata": {
    "vscode": {
     "languageId": "plaintext"
    }
   },
   "outputs": [],
   "source": [
    "#inserire (3(?)) subgoals e funzione di ciascuno"
   ]
  },
  {
   "cell_type": "markdown",
   "id": "88847104",
   "metadata": {},
   "source": [
    "## Our Agent vs BabyAI\n",
    "\n",
    "BabyAI is an intelligent agent implemented in the Minigrid libraries. It uses the \"Breath Deep Search\" to search the best path and the Manhattan distance to measure the step needed to reach the goal.\n",
    "\n",
    "We compared the performance of our agent versus BabyAI in resolving the enviroments provided by the Minigrid. The metric we used for the comparison is the \"step\" and we tested in 100 different seeds the performance of both. In particular, every seed changes the objects position and the agent spawn position but keeps the same goal.\n",
    "\n",
    "Here our performance confronted with BabyAI:\n"
   ]
  },
  {
   "cell_type": "code",
   "execution_count": null,
   "id": "a4603fe1",
   "metadata": {
    "vscode": {
     "languageId": "plaintext"
    }
   },
   "outputs": [],
   "source": [
    "#performance e di step usati in totale su vari livelli (esempio di seed diversi)"
   ]
  },
  {
   "cell_type": "markdown",
   "id": "a5606267",
   "metadata": {},
   "source": [
    "## Demonstration\n",
    "The following code demonstrates the execution of all the levels contained in the BabyAI enviroment tests.\n"
   ]
  },
  {
   "cell_type": "code",
   "execution_count": null,
   "id": "a33e74be",
   "metadata": {
    "vscode": {
     "languageId": "plaintext"
    }
   },
   "outputs": [],
   "source": [
    "#test dimostrativo della risoluzione di un livello:"
   ]
  },
  {
   "cell_type": "code",
   "execution_count": null,
   "id": "c198ada3",
   "metadata": {},
   "outputs": [
    {
     "name": "stderr",
     "output_type": "stream",
     "text": [
      "fatal: destination path 'aif-project' already exists and is not an empty directory.\n"
     ]
    }
   ],
   "source": [
    "# Clone the GitHub repository\n",
    "!git clone https://github.com/filippo-baglini/aif-project.git"
   ]
  },
  {
   "cell_type": "code",
   "execution_count": null,
   "id": "82c5ee91",
   "metadata": {},
   "outputs": [
    {
     "name": "stdout",
     "output_type": "stream",
     "text": [
      "^C\n"
     ]
    },
    {
     "name": "stderr",
     "output_type": "stream",
     "text": [
      "ERROR: Could not open requirements file: [Errno 2] No such file or directory: 'aif-project/requirements.txt'\n"
     ]
    }
   ],
   "source": [
    "# Install the required libraries   \n",
    "!pip install -r aif-project/requirements.txt"
   ]
  }
 ],
 "metadata": {
  "kernelspec": {
   "display_name": "base",
   "language": "python",
   "name": "python3"
  },
  "language_info": {
   "codemirror_mode": {
    "name": "ipython",
    "version": 3
   },
   "file_extension": ".py",
   "mimetype": "text/x-python",
   "name": "python",
   "nbconvert_exporter": "python",
   "pygments_lexer": "ipython3",
   "version": "3.11.5"
  }
 },
 "nbformat": 4,
 "nbformat_minor": 5
}
